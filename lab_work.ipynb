{
  "nbformat": 4,
  "nbformat_minor": 0,
  "metadata": {
    "colab": {
      "provenance": [],
      "include_colab_link": true
    },
    "kernelspec": {
      "name": "python3",
      "display_name": "Python 3"
    },
    "language_info": {
      "name": "python"
    }
  },
  "cells": [
    {
      "cell_type": "markdown",
      "metadata": {
        "id": "view-in-github",
        "colab_type": "text"
      },
      "source": [
        "<a href=\"https://colab.research.google.com/github/DavydenkoGr/Lab-Work/blob/dev/lab_work.ipynb\" target=\"_parent\"><img src=\"https://colab.research.google.com/assets/colab-badge.svg\" alt=\"Open In Colab\"/></a>"
      ]
    },
    {
      "cell_type": "markdown",
      "source": [
        "# Лабораторная работа"
      ],
      "metadata": {
        "id": "rloJD2luQnuQ"
      }
    },
    {
      "cell_type": "markdown",
      "source": [
        "Баллы за секции:\n",
        "- *Задание 1* - 10 баллов\n",
        "- *Задание 2* - 20 баллов\n",
        "- *Задание 3* - 30 баллов\n",
        "- **Итого** - 60 баллов\n",
        "\n",
        "Оценка за лабу $ = \\frac{score}{6}$"
      ],
      "metadata": {
        "id": "xIZ02xiML9p_"
      }
    },
    {
      "cell_type": "markdown",
      "source": [
        "## Внимание! Attention! Achtung!"
      ],
      "metadata": {
        "id": "OEDe7x8YRID0"
      }
    },
    {
      "cell_type": "markdown",
      "source": [
        "**Данная лабораторная работа является блокирующей**, т.е. если лабораторная работа не выполнена, то оценка за курс - неуд.\n",
        "\n",
        "Лабораторная работа считается выполненной, если **за каждое из заданий получено не менее 2 баллов**."
      ],
      "metadata": {
        "id": "ZEmKA-7NR1Y9"
      }
    },
    {
      "cell_type": "markdown",
      "source": [
        "## Формат сдачи лабораторной работы"
      ],
      "metadata": {
        "id": "N1ZbZ8dkR5q_"
      }
    },
    {
      "cell_type": "markdown",
      "source": [
        "Данная лабораторная работа сдается так же, как и проект - заполняете данный ноутбук, отправляете его через GitHub с указанием проверяющего."
      ],
      "metadata": {
        "id": "tEwx7LLQR-h8"
      }
    },
    {
      "cell_type": "markdown",
      "source": [
        "**Ассистенты не будут запускать ячейки кода, а смотреть на выведенный результат и код. Если ячейка кода не запущена - балл не ставится, даже при правильно написанном коде.**\n",
        "\n",
        "***(Комментарии что курс по Python легче чем по C++ учтены)***"
      ],
      "metadata": {
        "id": "qKwaNCJKj7b8"
      }
    },
    {
      "cell_type": "markdown",
      "source": [
        ">**Примечание**\n",
        ">\n",
        ">Данные задания вдохновлены предметом \"Введение в анализ данных\" 2 курса, по итогу которого идёт отбор на DS-поток. Если вы видите себя в смежных областях, советуем выполнить данную лабораторку по максимуму."
      ],
      "metadata": {
        "id": "hlUYK7MDRGye"
      }
    },
    {
      "cell_type": "code",
      "source": [
        "# Всё необходимое для выполнения данной лабораторной работы!\n",
        "import requests\n",
        "from time import sleep\n",
        "\n",
        "import numpy as np\n",
        "import pandas as pd\n",
        "import matplotlib.pyplot as plt\n",
        "import seaborn as sns"
      ],
      "metadata": {
        "id": "1qzEqvohoZfB"
      },
      "execution_count": 3,
      "outputs": []
    },
    {
      "cell_type": "markdown",
      "source": [
        "## Задание 1. Парсинг - 10 баллов"
      ],
      "metadata": {
        "id": "rB_FYHU2k8w-"
      }
    },
    {
      "cell_type": "markdown",
      "source": [
        "В этом задании Вам предстоит работать с API сайта <a target=\"_blank\" href=\"hh.ru\">hh.ru</a>. Документация доступна по <a target=\"_blank\" href=\"https://github.com/hhru/api/blob/master/docs/vacancies.md#search\">ссылке</a>."
      ],
      "metadata": {
        "id": "F0gr5cjaoQJy"
      }
    },
    {
      "cell_type": "markdown",
      "source": [
        "<b><font color=\"red\">Внимание!</font> При работе с API не забывайте делать паузы между запросами, иначе вас забанят. Просрочка дедлайна по этой причине не принимается!</b>"
      ],
      "metadata": {
        "id": "v8iCQYk7TNvK"
      }
    },
    {
      "cell_type": "markdown",
      "source": [
        "**Задача:**\n",
        "1. выбрать 5 интересующих вас профессий (не смежных, т.е. Аналатик и Data Engineer не считается корректным)\n",
        "2. затем получить доступные по данным профессиям вакансии в Москве и выделить их физические координаты\n",
        "3. нанести полученные координаты на карту местоположения компаний"
      ],
      "metadata": {
        "id": "-HAm80rqRqAZ"
      }
    },
    {
      "cell_type": "markdown",
      "source": [
        "*Пример запроса для профессии:*"
      ],
      "metadata": {
        "id": "H0GhQJvipXYj"
      }
    },
    {
      "cell_type": "code",
      "source": [
        "URL = 'https://hh.ru/oauth/authorize'\n",
        "\n",
        "params = {\n",
        "    \"response_type\": \"code\",\n",
        "    \"client_id\": 152964417\n",
        "}\n",
        "\n",
        "data = requests.get(URL, params)"
      ],
      "metadata": {
        "id": "aZLGoS_DpsXI"
      },
      "execution_count": 21,
      "outputs": []
    },
    {
      "cell_type": "markdown",
      "source": [
        "Если Ваш запрос прошел успешно, то вы получите следующие ключи (значения данных ключей вы найдете по ссылке на документацию):"
      ],
      "metadata": {
        "id": "yHQtIBRQp91_"
      }
    },
    {
      "cell_type": "code",
      "source": [
        "professions[\"data scientist\"][6][\"employer\"]"
      ],
      "metadata": {
        "colab": {
          "base_uri": "https://localhost:8080/"
        },
        "id": "DW6mxzggpvKw",
        "outputId": "26ccebbf-d0db-4b10-b38d-3d86477e90b6"
      },
      "execution_count": 33,
      "outputs": [
        {
          "output_type": "execute_result",
          "data": {
            "text/plain": [
              "{'id': '3388',\n",
              " 'name': 'Газпромбанк',\n",
              " 'url': 'https://api.hh.ru/employers/3388',\n",
              " 'alternate_url': 'https://hh.ru/employer/3388',\n",
              " 'logo_urls': {'original': 'https://hhcdn.ru/employer-logo-original/803938.png',\n",
              "  '90': 'https://hhcdn.ru/employer-logo/3656639.png',\n",
              "  '240': 'https://hhcdn.ru/employer-logo/3656640.png'},\n",
              " 'vacancies_url': 'https://api.hh.ru/vacancies?employer_id=3388',\n",
              " 'trusted': True}"
            ]
          },
          "metadata": {},
          "execution_count": 33
        }
      ]
    },
    {
      "cell_type": "markdown",
      "source": [
        ">**Примечание**\n",
        ">\n",
        ">В `data['pages']` будет хранится количество найденных страниц вакансий - для корректного сбора данных Вам нужно пробежать по **КАЖДОЙ** странице и сделать соотвествующие запросы."
      ],
      "metadata": {
        "id": "O-qAwsmrTAvQ"
      }
    },
    {
      "cell_type": "markdown",
      "source": [
        ">**Совет**\n",
        ">\n",
        ">Посмотрите что хранится в `items`!"
      ],
      "metadata": {
        "id": "OEPOQVYxsMyN"
      }
    },
    {
      "cell_type": "markdown",
      "source": [
        "(1 балл) Выберете для нас 5 наиболее интересных специальностей и получите по ним имеющиеся вакансии:"
      ],
      "metadata": {
        "id": "JWvkFrh9qhkj"
      }
    },
    {
      "cell_type": "code",
      "source": [
        "# Dictionary with vacancies by profession\n",
        "professions = {\n",
        "    \"data scientist\": [],\n",
        "    \"backend developer\": [],\n",
        "    \"frontend developer\": [],\n",
        "    \"product manager\": [],\n",
        "    \"English tutor\": []\n",
        "}\n",
        "\n",
        "for profession in professions.keys():\n",
        "\n",
        "    params = {\n",
        "        \"text\": profession,\n",
        "        \"area\": 1,\n",
        "        \"page\": 0\n",
        "    }\n",
        "\n",
        "    pages_count = requests.get(URL, params).json()[\"pages\"]\n",
        "\n",
        "    for page in range(pages_count):\n",
        "        sleep(0.1)\n",
        "\n",
        "        params[\"page\"] = page\n",
        "        data = requests.get(URL, params).json()\n",
        "\n",
        "        professions[profession] += data[\"items\"]\n",
        "\n",
        "# Первые 3 найденные вакансии по каждой специальности\n",
        "for profession in professions.keys():\n",
        "    print(professions[profession][:3])"
      ],
      "metadata": {
        "id": "_Nm-vyiBqugq",
        "colab": {
          "base_uri": "https://localhost:8080/"
        },
        "outputId": "381633c4-5431-48b0-9b27-bb1a1d47d5c2"
      },
      "execution_count": 6,
      "outputs": [
        {
          "output_type": "stream",
          "name": "stdout",
          "text": [
            "[{'id': '80253990', 'premium': False, 'name': 'Data scientist (intern)', 'department': None, 'has_test': False, 'response_letter_required': False, 'area': {'id': '1', 'name': 'Москва', 'url': 'https://api.hh.ru/areas/1'}, 'salary': None, 'type': {'id': 'open', 'name': 'Открытая'}, 'address': {'city': 'Москва', 'street': 'Варшавское шоссе', 'building': '9', 'lat': 55.700486, 'lng': 37.621678, 'description': None, 'raw': 'Москва, Варшавское шоссе, 9', 'metro': None, 'metro_stations': [], 'id': '12794791'}, 'response_url': None, 'sort_point_distance': None, 'published_at': '2023-05-13T16:23:06+0300', 'created_at': '2023-05-13T16:23:06+0300', 'archived': False, 'apply_alternate_url': 'https://hh.ru/applicant/vacancy_response?vacancyId=80253990', 'insider_interview': None, 'url': 'https://api.hh.ru/vacancies/80253990?host=hh.ru', 'adv_response_url': None, 'alternate_url': 'https://hh.ru/vacancy/80253990', 'relations': [], 'employer': {'id': '3823903', 'name': 'Aramco Innovations', 'url': 'https://api.hh.ru/employers/3823903', 'alternate_url': 'https://hh.ru/employer/3823903', 'logo_urls': {'90': 'https://hhcdn.ru/employer-logo/3241920.jpeg', '240': 'https://hhcdn.ru/employer-logo/3241921.jpeg', 'original': 'https://hhcdn.ru/employer-logo-original/700201.jpg'}, 'vacancies_url': 'https://api.hh.ru/vacancies?employer_id=3823903', 'trusted': True}, 'snippet': {'requirement': 'Basic mathematical background (statistics, linear algebra). Ability to communicate in English and clarify tasks with the client. Ability to present...', 'responsibility': 'Creating datasets for training models from a set of Excel files and open <highlighttext>data</highlighttext>, as well as cleaning them. '}, 'contacts': None, 'schedule': None, 'working_days': [], 'working_time_intervals': [{'id': 'from_four_to_six_hours_in_a_day', 'name': 'Можно работать сменами по\\xa04–6 часов в\\xa0день'}], 'working_time_modes': [], 'accept_temporary': True, 'professional_roles': [{'id': '165', 'name': 'Дата-сайентист'}], 'accept_incomplete_resumes': False, 'experience': {'id': 'noExperience', 'name': 'Нет опыта'}, 'employment': {'id': 'probation', 'name': 'Стажировка'}}, {'id': '80242404', 'premium': False, 'name': 'Data Scientist (Junior)', 'department': {'id': '3388-3388-gazprom', 'name': 'Газпромбанк'}, 'has_test': False, 'response_letter_required': False, 'area': {'id': '1', 'name': 'Москва', 'url': 'https://api.hh.ru/areas/1'}, 'salary': None, 'type': {'id': 'open', 'name': 'Открытая'}, 'address': None, 'response_url': None, 'sort_point_distance': None, 'published_at': '2023-05-10T14:14:53+0300', 'created_at': '2023-05-10T14:14:53+0300', 'archived': False, 'apply_alternate_url': 'https://hh.ru/applicant/vacancy_response?vacancyId=80242404', 'insider_interview': None, 'url': 'https://api.hh.ru/vacancies/80242404?host=hh.ru', 'adv_response_url': None, 'alternate_url': 'https://hh.ru/vacancy/80242404', 'relations': [], 'employer': {'id': '3388', 'name': 'Газпромбанк', 'url': 'https://api.hh.ru/employers/3388', 'alternate_url': 'https://hh.ru/employer/3388', 'logo_urls': {'original': 'https://hhcdn.ru/employer-logo-original/803938.png', '90': 'https://hhcdn.ru/employer-logo/3656639.png', '240': 'https://hhcdn.ru/employer-logo/3656640.png'}, 'vacancies_url': 'https://api.hh.ru/vacancies?employer_id=3388', 'trusted': True}, 'snippet': {'requirement': 'Профильное образование (техническое, компьютерные науки, статистика, математика). 0-1 года опыта профессиональной разработки моделей машинного обучения. Уверенное знание python. ', 'responsibility': 'Анализ различных источников данных, генерация признаков для построения модели. Разведочный анализ данных (EDA). Построение моделей машинного обучения. Внедрение моделей машинного...'}, 'contacts': None, 'schedule': None, 'working_days': [], 'working_time_intervals': [], 'working_time_modes': [], 'accept_temporary': False, 'professional_roles': [{'id': '165', 'name': 'Дата-сайентист'}], 'accept_incomplete_resumes': False, 'experience': {'id': 'between1And3', 'name': 'От 1 года до 3 лет'}, 'employment': {'id': 'full', 'name': 'Полная занятость'}}, {'id': '80281257', 'premium': False, 'name': 'Data Scientist', 'department': None, 'has_test': False, 'response_letter_required': False, 'area': {'id': '1', 'name': 'Москва', 'url': 'https://api.hh.ru/areas/1'}, 'salary': {'from': 160000, 'to': 180000, 'currency': 'RUR', 'gross': False}, 'type': {'id': 'open', 'name': 'Открытая'}, 'address': {'city': 'Москва', 'street': 'Новодмитровская улица', 'building': '2к2', 'lat': 55.804471, 'lng': 37.590344, 'description': None, 'raw': 'Москва, Новодмитровская улица, 2к2', 'metro': {'station_name': 'Дмитровская', 'line_name': 'Серпуховско-Тимирязевская', 'station_id': '9.35', 'line_id': '9', 'lat': 55.808056, 'lng': 37.581734}, 'metro_stations': [{'station_name': 'Дмитровская', 'line_name': 'Серпуховско-Тимирязевская', 'station_id': '9.35', 'line_id': '9', 'lat': 55.808056, 'lng': 37.581734}, {'station_name': 'Дмитровская', 'line_name': 'МЦД - 2', 'station_id': '132.723', 'line_id': '132', 'lat': 55.808056, 'lng': 37.581734}, {'station_name': 'Савёловская', 'line_name': 'Серпуховско-Тимирязевская', 'station_id': '9.128', 'line_id': '9', 'lat': 55.794054, 'lng': 37.587163}], 'id': '11590064'}, 'response_url': None, 'sort_point_distance': None, 'published_at': '2023-05-11T09:49:48+0300', 'created_at': '2023-05-11T09:49:48+0300', 'archived': False, 'apply_alternate_url': 'https://hh.ru/applicant/vacancy_response?vacancyId=80281257', 'insider_interview': None, 'url': 'https://api.hh.ru/vacancies/80281257?host=hh.ru', 'adv_response_url': None, 'alternate_url': 'https://hh.ru/vacancy/80281257', 'relations': [], 'employer': {'id': '5162918', 'name': 'CyberPhysics', 'url': 'https://api.hh.ru/employers/5162918', 'alternate_url': 'https://hh.ru/employer/5162918', 'logo_urls': {'original': 'https://hhcdn.ru/employer-logo-original/1000793.png', '90': 'https://hhcdn.ru/employer-logo/5623952.png', '240': 'https://hhcdn.ru/employer-logo/5623953.png'}, 'vacancies_url': 'https://api.hh.ru/vacancies?employer_id=5162918', 'trusted': True}, 'snippet': {'requirement': 'Хорошая математическая подготовка: теория вероятностей, статистика, методы и алгоритмы machine learning. Опыт разработки библиотек на Python. Продвинутый уровень владения tensorflow...', 'responsibility': 'Использовать методы machine learning для улучшения существующих подходов системы предиктивной аналитики оборудования и оптимизации технологических процессов. Анализировать эффективность существующих вычислительных...'}, 'contacts': None, 'schedule': None, 'working_days': [], 'working_time_intervals': [], 'working_time_modes': [], 'accept_temporary': False, 'professional_roles': [{'id': '165', 'name': 'Дата-сайентист'}], 'accept_incomplete_resumes': False, 'experience': {'id': 'between1And3', 'name': 'От 1 года до 3 лет'}, 'employment': {'id': 'full', 'name': 'Полная занятость'}}]\n",
            "[{'id': '79837607', 'premium': False, 'name': 'Rust Backend разработчик', 'department': None, 'has_test': False, 'response_letter_required': False, 'area': {'id': '1', 'name': 'Москва', 'url': 'https://api.hh.ru/areas/1'}, 'salary': {'from': 100000, 'to': None, 'currency': 'RUR', 'gross': True}, 'type': {'id': 'open', 'name': 'Открытая'}, 'address': {'city': None, 'street': None, 'building': None, 'lat': None, 'lng': None, 'description': None, 'raw': 'г. Москва, Авиамоторная ул. 2', 'metro': None, 'metro_stations': [], 'id': '331084'}, 'response_url': None, 'sort_point_distance': None, 'published_at': '2023-04-26T15:15:14+0300', 'created_at': '2023-04-26T15:15:14+0300', 'archived': False, 'apply_alternate_url': 'https://hh.ru/applicant/vacancy_response?vacancyId=79837607', 'insider_interview': None, 'url': 'https://api.hh.ru/vacancies/79837607?host=hh.ru', 'adv_response_url': None, 'alternate_url': 'https://hh.ru/vacancy/79837607', 'relations': [], 'employer': {'id': '210727', 'name': 'ФАУ ЦИАМ им. П.И. Баранова', 'url': 'https://api.hh.ru/employers/210727', 'alternate_url': 'https://hh.ru/employer/210727', 'logo_urls': None, 'vacancies_url': 'https://api.hh.ru/vacancies?employer_id=210727', 'trusted': True}, 'snippet': {'requirement': 'SQL (PostgreSQL)|NoSQL git (Gitlab). ORM. Опыт от 1,5 лет.', 'responsibility': '<highlighttext>Разработка</highlighttext> микросервисов. <highlighttext>Разработка</highlighttext> REST API. <highlighttext>Разработка</highlighttext> RPC API. Производство кода.'}, 'contacts': None, 'schedule': None, 'working_days': [], 'working_time_intervals': [], 'working_time_modes': [], 'accept_temporary': False, 'professional_roles': [{'id': '96', 'name': 'Программист, разработчик'}], 'accept_incomplete_resumes': False, 'experience': {'id': 'between1And3', 'name': 'От 1 года до 3 лет'}, 'employment': {'id': 'full', 'name': 'Полная занятость'}}, {'id': '80345268', 'premium': False, 'name': 'Python разработчик (Junior)', 'department': None, 'has_test': True, 'response_letter_required': False, 'area': {'id': '1', 'name': 'Москва', 'url': 'https://api.hh.ru/areas/1'}, 'salary': None, 'type': {'id': 'open', 'name': 'Открытая'}, 'address': None, 'response_url': None, 'sort_point_distance': None, 'published_at': '2023-05-12T11:07:00+0300', 'created_at': '2023-05-12T11:07:00+0300', 'archived': False, 'apply_alternate_url': 'https://hh.ru/applicant/vacancy_response?vacancyId=80345268', 'insider_interview': None, 'url': 'https://api.hh.ru/vacancies/80345268?host=hh.ru', 'adv_response_url': None, 'alternate_url': 'https://hh.ru/vacancy/80345268', 'relations': [], 'employer': {'id': '139', 'name': 'IBS', 'url': 'https://api.hh.ru/employers/139', 'alternate_url': 'https://hh.ru/employer/139', 'logo_urls': {'90': 'https://hhcdn.ru/employer-logo/3381257.png', '240': 'https://hhcdn.ru/employer-logo/3381258.png', 'original': 'https://hhcdn.ru/employer-logo-original/735070.png'}, 'vacancies_url': 'https://api.hh.ru/vacancies?employer_id=139', 'trusted': True}, 'snippet': {'requirement': 'Уверенное владение основами программирования и конструкциями языка python. Уверенное владение фреймворком Django, в том числе ORM. Уверенное владение базовыми командами...', 'responsibility': '<highlighttext>Разработка</highlighttext> <highlighttext>бэкенда</highlighttext> с применением Python. Оказание помощи коллегам на проекте. Документирование ПО, пополнение базы знаний. Участие в командных мероприятиях: митинги...'}, 'contacts': None, 'schedule': None, 'working_days': [], 'working_time_intervals': [], 'working_time_modes': [], 'accept_temporary': False, 'professional_roles': [{'id': '96', 'name': 'Программист, разработчик'}], 'accept_incomplete_resumes': False, 'experience': {'id': 'noExperience', 'name': 'Нет опыта'}, 'employment': {'id': 'full', 'name': 'Полная занятость'}}, {'id': '79982229', 'premium': False, 'name': 'Тестировщик ПО (junior)', 'department': None, 'has_test': False, 'response_letter_required': False, 'area': {'id': '1', 'name': 'Москва', 'url': 'https://api.hh.ru/areas/1'}, 'salary': {'from': None, 'to': 60000, 'currency': 'RUR', 'gross': False}, 'type': {'id': 'open', 'name': 'Открытая'}, 'address': {'city': 'Москва', 'street': 'Мукомольный проезд', 'building': '4Ас2', 'lat': 55.751857, 'lng': 37.525288, 'description': None, 'raw': 'Москва, Мукомольный проезд, 4Ас2', 'metro': {'station_name': 'Тестовская', 'line_name': 'МЦД - 1', 'station_id': '131.702', 'line_id': '131', 'lat': 55.754292, 'lng': 37.531551}, 'metro_stations': [{'station_name': 'Тестовская', 'line_name': 'МЦД - 1', 'station_id': '131.702', 'line_id': '131', 'lat': 55.754292, 'lng': 37.531551}, {'station_name': 'Шелепиха', 'line_name': 'МЦК', 'station_id': '95.538', 'line_id': '95', 'lat': 55.7575, 'lng': 37.525556}, {'station_name': 'Шелепиха', 'line_name': 'Большая кольцевая линия', 'station_id': '97.602', 'line_id': '97', 'lat': 55.75723, 'lng': 37.52571}], 'id': '12336320'}, 'response_url': None, 'sort_point_distance': None, 'published_at': '2023-05-02T11:59:59+0300', 'created_at': '2023-05-02T11:59:59+0300', 'archived': False, 'apply_alternate_url': 'https://hh.ru/applicant/vacancy_response?vacancyId=79982229', 'insider_interview': None, 'url': 'https://api.hh.ru/vacancies/79982229?host=hh.ru', 'adv_response_url': None, 'alternate_url': 'https://hh.ru/vacancy/79982229', 'relations': [], 'employer': {'id': '8994879', 'name': 'TENCHAT', 'url': 'https://api.hh.ru/employers/8994879', 'alternate_url': 'https://hh.ru/employer/8994879', 'logo_urls': {'original': 'https://hhcdn.ru/employer-logo-original/980780.jpg', '240': 'https://hhcdn.ru/employer-logo/5543949.jpeg', '90': 'https://hhcdn.ru/employer-logo/5543948.jpeg'}, 'vacancies_url': 'https://api.hh.ru/vacancies?employer_id=8994879', 'trusted': True}, 'snippet': {'requirement': 'Хорошие коммуникативные навыки, готовность работать в команде и общаться с отделом <highlighttext>разработки</highlighttext>. Умение четко излагать свои мысли. Умение ставить себя...', 'responsibility': 'Функциональное, регрессионное, ручное тестирование продуктов компании. Интеграционное тестирование. <highlighttext>Разработка</highlighttext> сценариев тестирования. Регистрация обнаруженных дефектов в bug-tracking системе, отслеживание исправление...'}, 'contacts': None, 'schedule': None, 'working_days': [], 'working_time_intervals': [], 'working_time_modes': [], 'accept_temporary': False, 'professional_roles': [{'id': '124', 'name': 'Тестировщик'}], 'accept_incomplete_resumes': False, 'experience': {'id': 'between1And3', 'name': 'От 1 года до 3 лет'}, 'employment': {'id': 'full', 'name': 'Полная занятость'}}]\n",
            "[{'id': '80315144', 'premium': False, 'name': 'Фронтенд разработчик React', 'department': None, 'has_test': False, 'response_letter_required': False, 'area': {'id': '1', 'name': 'Москва', 'url': 'https://api.hh.ru/areas/1'}, 'salary': {'from': 80000, 'to': 300000, 'currency': 'RUR', 'gross': True}, 'type': {'id': 'open', 'name': 'Открытая'}, 'address': None, 'response_url': None, 'sort_point_distance': None, 'published_at': '2023-05-11T16:16:54+0300', 'created_at': '2023-05-11T16:16:54+0300', 'archived': False, 'apply_alternate_url': 'https://hh.ru/applicant/vacancy_response?vacancyId=80315144', 'insider_interview': None, 'url': 'https://api.hh.ru/vacancies/80315144?host=hh.ru', 'adv_response_url': None, 'alternate_url': 'https://hh.ru/vacancy/80315144', 'relations': [], 'employer': {'id': '9188643', 'name': 'Грин-Апи', 'url': 'https://api.hh.ru/employers/9188643', 'alternate_url': 'https://hh.ru/employer/9188643', 'logo_urls': {'90': 'https://hhcdn.ru/employer-logo/6008969.png', '240': 'https://hhcdn.ru/employer-logo/6008970.png', 'original': 'https://hhcdn.ru/employer-logo-original/1097088.png'}, 'vacancies_url': 'https://api.hh.ru/vacancies?employer_id=9188643', 'trusted': True}, 'snippet': {'requirement': 'Аккуратный и понятный код. Аккуратность и порядочность во всем. Высокая автономность. Живой ум. Желание расти и развиваться.', 'responsibility': 'Доработка существующего проекта на React. <highlighttext>Разработка</highlighttext> новых проектов на React. Реверс-инжиниринг программных модулей на ts, js.'}, 'contacts': None, 'schedule': None, 'working_days': [], 'working_time_intervals': [], 'working_time_modes': [], 'accept_temporary': False, 'professional_roles': [{'id': '96', 'name': 'Программист, разработчик'}], 'accept_incomplete_resumes': False, 'experience': {'id': 'noExperience', 'name': 'Нет опыта'}, 'employment': {'id': 'full', 'name': 'Полная занятость'}}, {'id': '79982229', 'premium': False, 'name': 'Тестировщик ПО (junior)', 'department': None, 'has_test': False, 'response_letter_required': False, 'area': {'id': '1', 'name': 'Москва', 'url': 'https://api.hh.ru/areas/1'}, 'salary': {'from': None, 'to': 60000, 'currency': 'RUR', 'gross': False}, 'type': {'id': 'open', 'name': 'Открытая'}, 'address': {'city': 'Москва', 'street': 'Мукомольный проезд', 'building': '4Ас2', 'lat': 55.751857, 'lng': 37.525288, 'description': None, 'raw': 'Москва, Мукомольный проезд, 4Ас2', 'metro': {'station_name': 'Тестовская', 'line_name': 'МЦД - 1', 'station_id': '131.702', 'line_id': '131', 'lat': 55.754292, 'lng': 37.531551}, 'metro_stations': [{'station_name': 'Тестовская', 'line_name': 'МЦД - 1', 'station_id': '131.702', 'line_id': '131', 'lat': 55.754292, 'lng': 37.531551}, {'station_name': 'Шелепиха', 'line_name': 'МЦК', 'station_id': '95.538', 'line_id': '95', 'lat': 55.7575, 'lng': 37.525556}, {'station_name': 'Шелепиха', 'line_name': 'Большая кольцевая линия', 'station_id': '97.602', 'line_id': '97', 'lat': 55.75723, 'lng': 37.52571}], 'id': '12336320'}, 'response_url': None, 'sort_point_distance': None, 'published_at': '2023-05-02T11:59:59+0300', 'created_at': '2023-05-02T11:59:59+0300', 'archived': False, 'apply_alternate_url': 'https://hh.ru/applicant/vacancy_response?vacancyId=79982229', 'insider_interview': None, 'url': 'https://api.hh.ru/vacancies/79982229?host=hh.ru', 'adv_response_url': None, 'alternate_url': 'https://hh.ru/vacancy/79982229', 'relations': [], 'employer': {'id': '8994879', 'name': 'TENCHAT', 'url': 'https://api.hh.ru/employers/8994879', 'alternate_url': 'https://hh.ru/employer/8994879', 'logo_urls': {'original': 'https://hhcdn.ru/employer-logo-original/980780.jpg', '240': 'https://hhcdn.ru/employer-logo/5543949.jpeg', '90': 'https://hhcdn.ru/employer-logo/5543948.jpeg'}, 'vacancies_url': 'https://api.hh.ru/vacancies?employer_id=8994879', 'trusted': True}, 'snippet': {'requirement': 'Хорошие коммуникативные навыки, готовность работать в команде и общаться с отделом <highlighttext>разработки</highlighttext>. Умение четко излагать свои мысли. Умение ставить себя...', 'responsibility': 'Функциональное, регрессионное, ручное тестирование продуктов компании. Интеграционное тестирование. <highlighttext>Разработка</highlighttext> сценариев тестирования. Регистрация обнаруженных дефектов в bug-tracking системе, отслеживание исправление...'}, 'contacts': None, 'schedule': None, 'working_days': [], 'working_time_intervals': [], 'working_time_modes': [], 'accept_temporary': False, 'professional_roles': [{'id': '124', 'name': 'Тестировщик'}], 'accept_incomplete_resumes': False, 'experience': {'id': 'between1And3', 'name': 'От 1 года до 3 лет'}, 'employment': {'id': 'full', 'name': 'Полная занятость'}}, {'id': '80258109', 'premium': False, 'name': 'Web-разработчик / HTML-верстальщик', 'department': None, 'has_test': False, 'response_letter_required': False, 'area': {'id': '1', 'name': 'Москва', 'url': 'https://api.hh.ru/areas/1'}, 'salary': {'from': 50000, 'to': 140000, 'currency': 'RUR', 'gross': False}, 'type': {'id': 'open', 'name': 'Открытая'}, 'address': {'city': 'Москва', 'street': 'Новорязанская улица', 'building': '18с11', 'lat': 55.770375, 'lng': 37.660305, 'description': None, 'raw': 'Москва, Новорязанская улица, 18с11', 'metro': None, 'metro_stations': [], 'id': '3280624'}, 'response_url': None, 'sort_point_distance': None, 'published_at': '2023-05-10T17:18:47+0300', 'created_at': '2023-05-10T17:18:47+0300', 'archived': False, 'apply_alternate_url': 'https://hh.ru/applicant/vacancy_response?vacancyId=80258109', 'insider_interview': None, 'url': 'https://api.hh.ru/vacancies/80258109?host=hh.ru', 'adv_response_url': None, 'alternate_url': 'https://hh.ru/vacancy/80258109', 'relations': [], 'employer': {'id': '4384046', 'name': 'Идби', 'url': 'https://api.hh.ru/employers/4384046', 'alternate_url': 'https://hh.ru/employer/4384046', 'logo_urls': {'90': 'https://hhcdn.ru/employer-logo/3227968.png', '240': 'https://hhcdn.ru/employer-logo/3227969.png', 'original': 'https://hhcdn.ru/employer-logo-original/696713.png'}, 'vacancies_url': 'https://api.hh.ru/vacancies?employer_id=4384046', 'trusted': True}, 'snippet': {'requirement': 'Уровень НЕ НИЖЕ MIDDLE ( к сожалению джунов на текущую вакансию не сможем взять). Уверенно HTML5 (семантика), CSS (препроцессоры SASS...', 'responsibility': 'HTML-верстку и <highlighttext>frontend</highlighttext>-<highlighttext>разработку</highlighttext> для наших клиентов. Тестирование верстки на различных типах десктоп и мобильных устройств. Исправление багов в...'}, 'contacts': None, 'schedule': None, 'working_days': [], 'working_time_intervals': [], 'working_time_modes': [], 'accept_temporary': False, 'professional_roles': [{'id': '96', 'name': 'Программист, разработчик'}], 'accept_incomplete_resumes': False, 'experience': {'id': 'between3And6', 'name': 'От 3 до 6 лет'}, 'employment': {'id': 'full', 'name': 'Полная занятость'}}]\n",
            "[{'id': '79982229', 'premium': False, 'name': 'Тестировщик ПО (junior)', 'department': None, 'has_test': False, 'response_letter_required': False, 'area': {'id': '1', 'name': 'Москва', 'url': 'https://api.hh.ru/areas/1'}, 'salary': {'from': None, 'to': 60000, 'currency': 'RUR', 'gross': False}, 'type': {'id': 'open', 'name': 'Открытая'}, 'address': {'city': 'Москва', 'street': 'Мукомольный проезд', 'building': '4Ас2', 'lat': 55.751857, 'lng': 37.525288, 'description': None, 'raw': 'Москва, Мукомольный проезд, 4Ас2', 'metro': {'station_name': 'Тестовская', 'line_name': 'МЦД - 1', 'station_id': '131.702', 'line_id': '131', 'lat': 55.754292, 'lng': 37.531551}, 'metro_stations': [{'station_name': 'Тестовская', 'line_name': 'МЦД - 1', 'station_id': '131.702', 'line_id': '131', 'lat': 55.754292, 'lng': 37.531551}, {'station_name': 'Шелепиха', 'line_name': 'МЦК', 'station_id': '95.538', 'line_id': '95', 'lat': 55.7575, 'lng': 37.525556}, {'station_name': 'Шелепиха', 'line_name': 'Большая кольцевая линия', 'station_id': '97.602', 'line_id': '97', 'lat': 55.75723, 'lng': 37.52571}], 'id': '12336320'}, 'response_url': None, 'sort_point_distance': None, 'published_at': '2023-05-02T11:59:59+0300', 'created_at': '2023-05-02T11:59:59+0300', 'archived': False, 'apply_alternate_url': 'https://hh.ru/applicant/vacancy_response?vacancyId=79982229', 'insider_interview': None, 'url': 'https://api.hh.ru/vacancies/79982229?host=hh.ru', 'adv_response_url': None, 'alternate_url': 'https://hh.ru/vacancy/79982229', 'relations': [], 'employer': {'id': '8994879', 'name': 'TENCHAT', 'url': 'https://api.hh.ru/employers/8994879', 'alternate_url': 'https://hh.ru/employer/8994879', 'logo_urls': {'original': 'https://hhcdn.ru/employer-logo-original/980780.jpg', '240': 'https://hhcdn.ru/employer-logo/5543949.jpeg', '90': 'https://hhcdn.ru/employer-logo/5543948.jpeg'}, 'vacancies_url': 'https://api.hh.ru/vacancies?employer_id=8994879', 'trusted': True}, 'snippet': {'requirement': 'Опыт тестирования web-приложений (frontend & backend). Знание методик тестирования. Опыт работы с багтрекером (Jira). Опыт работы с iOS/Android. ', 'responsibility': 'Написание тест-кейсов, чек-листов, тест планов, инструкций. Подготовка тестовых данных. Взаимодействие с разработчиками, <highlighttext>менеджерами</highlighttext> <highlighttext>продукта</highlighttext> и аналитиками.'}, 'contacts': None, 'schedule': None, 'working_days': [], 'working_time_intervals': [], 'working_time_modes': [], 'accept_temporary': False, 'professional_roles': [{'id': '124', 'name': 'Тестировщик'}], 'accept_incomplete_resumes': False, 'experience': {'id': 'between1And3', 'name': 'От 1 года до 3 лет'}, 'employment': {'id': 'full', 'name': 'Полная занятость'}}, {'id': '79817225', 'premium': False, 'name': 'Директор по маркетингу', 'department': None, 'has_test': False, 'response_letter_required': False, 'area': {'id': '1', 'name': 'Москва', 'url': 'https://api.hh.ru/areas/1'}, 'salary': {'from': None, 'to': 240000, 'currency': 'RUR', 'gross': False}, 'type': {'id': 'open', 'name': 'Открытая'}, 'address': None, 'response_url': None, 'sort_point_distance': None, 'published_at': '2023-04-26T10:44:03+0300', 'created_at': '2023-04-26T10:44:03+0300', 'archived': False, 'apply_alternate_url': 'https://hh.ru/applicant/vacancy_response?vacancyId=79817225', 'insider_interview': None, 'url': 'https://api.hh.ru/vacancies/79817225?host=hh.ru', 'adv_response_url': None, 'alternate_url': 'https://hh.ru/vacancy/79817225', 'relations': [], 'employer': {'id': '3883714', 'name': 'LDM', 'url': 'https://api.hh.ru/employers/3883714', 'alternate_url': 'https://hh.ru/employer/3883714', 'logo_urls': {'original': 'https://hhcdn.ru/employer-logo-original/639516.jpeg', '90': 'https://hhcdn.ru/employer-logo/2999216.jpeg', '240': 'https://hhcdn.ru/employer-logo/2999217.jpeg'}, 'vacancies_url': 'https://api.hh.ru/vacancies?employer_id=3883714', 'trusted': True}, 'snippet': {'requirement': 'Умение работать с продвижением онлайн-проектов / startups / IT. Компетентность в области digital маркетинга и рекламы. Опыт в использовании инструментов цифрового...', 'responsibility': 'Разработка и реализация маркетинговой стратегии. Анализ эффективности проводимых акций и мероприятий. Формирование отчетов по результатам маркетинговых активностей, подготовка рекомендаций. '}, 'contacts': None, 'schedule': None, 'working_days': [], 'working_time_intervals': [], 'working_time_modes': [], 'accept_temporary': False, 'professional_roles': [{'id': '37', 'name': 'Директор по маркетингу и PR (CMO)'}], 'accept_incomplete_resumes': False, 'experience': {'id': 'between3And6', 'name': 'От 3 до 6 лет'}, 'employment': {'id': 'full', 'name': 'Полная занятость'}}, {'id': '80220238', 'premium': False, 'name': 'Менеджер продукта в JoomPro (Лиссабон)', 'department': None, 'has_test': True, 'response_letter_required': False, 'area': {'id': '1', 'name': 'Москва', 'url': 'https://api.hh.ru/areas/1'}, 'salary': None, 'type': {'id': 'open', 'name': 'Открытая'}, 'address': None, 'response_url': None, 'sort_point_distance': None, 'published_at': '2023-05-10T10:25:37+0300', 'created_at': '2023-05-10T10:25:37+0300', 'archived': False, 'apply_alternate_url': 'https://hh.ru/applicant/vacancy_response?vacancyId=80220238', 'insider_interview': None, 'url': 'https://api.hh.ru/vacancies/80220238?host=hh.ru', 'adv_response_url': None, 'alternate_url': 'https://hh.ru/vacancy/80220238', 'relations': [], 'employer': {'id': '2801530', 'name': 'Joom', 'url': 'https://api.hh.ru/employers/2801530', 'alternate_url': 'https://hh.ru/employer/2801530', 'logo_urls': {'90': 'https://hhcdn.ru/employer-logo/2095790.png', 'original': 'https://hhcdn.ru/employer-logo-original/413429.png', '240': 'https://hhcdn.ru/employer-logo/2095791.png'}, 'vacancies_url': 'https://api.hh.ru/vacancies?employer_id=2801530', 'trusted': True}, 'snippet': {'requirement': 'Опыт работы <highlighttext>менеджером</highlighttext> <highlighttext>продукта</highlighttext> от 2 лет, желательно в b2b проекте. Системный подход. Готовность глубоко погружаться в специфику...', 'responsibility': 'Участие в определении вектора развития продукта. Формирование бэклога. Постановка задач разработчикам и дизайнерам. CustDev.'}, 'contacts': None, 'schedule': None, 'working_days': [], 'working_time_intervals': [], 'working_time_modes': [], 'accept_temporary': False, 'professional_roles': [{'id': '73', 'name': 'Менеджер продукта'}], 'accept_incomplete_resumes': False, 'experience': {'id': 'between3And6', 'name': 'От 3 до 6 лет'}, 'employment': {'id': 'full', 'name': 'Полная занятость'}}]\n",
            "[{'id': '80353042', 'premium': False, 'name': 'Няня-воспитатель в Израиль', 'department': None, 'has_test': False, 'response_letter_required': False, 'area': {'id': '1', 'name': 'Москва', 'url': 'https://api.hh.ru/areas/1'}, 'salary': {'from': 1500, 'to': 3500, 'currency': 'USD', 'gross': False}, 'type': {'id': 'open', 'name': 'Открытая'}, 'address': None, 'response_url': None, 'sort_point_distance': None, 'published_at': '2023-05-12T12:46:25+0300', 'created_at': '2023-05-12T12:46:25+0300', 'archived': False, 'apply_alternate_url': 'https://hh.ru/applicant/vacancy_response?vacancyId=80353042', 'insider_interview': None, 'url': 'https://api.hh.ru/vacancies/80353042?host=hh.ru', 'adv_response_url': None, 'alternate_url': 'https://hh.ru/vacancy/80353042', 'relations': [], 'employer': {'id': '9844192', 'name': 'Давид Парр', 'url': 'https://api.hh.ru/employers/9844192', 'alternate_url': 'https://hh.ru/employer/9844192', 'logo_urls': None, 'vacancies_url': 'https://api.hh.ru/vacancies?employer_id=9844192', 'trusted': False}, 'snippet': {'requirement': 'Мальчик очень активный. Поэтому важно чтобы вы могли быть физически активным и креативным человеком, имеющим большой опыт в работе с...', 'responsibility': 'Сопровождение на занятия. Помощь по дому (имеется основной уборщик. Выполнение мелких поручений по домашнему хозяйству). Приготовление еды для ребенка и...'}, 'contacts': None, 'schedule': None, 'working_days': [], 'working_time_intervals': [], 'working_time_modes': [], 'accept_temporary': False, 'professional_roles': [{'id': '23', 'name': 'Воспитатель, няня'}], 'accept_incomplete_resumes': True, 'experience': {'id': 'moreThan6', 'name': 'Более 6 лет'}, 'employment': {'id': 'full', 'name': 'Полная занятость'}}, {'id': '80201668', 'premium': False, 'name': 'Воспитатель, подработка', 'department': None, 'has_test': False, 'response_letter_required': False, 'area': {'id': '1', 'name': 'Москва', 'url': 'https://api.hh.ru/areas/1'}, 'salary': {'from': 65000, 'to': 80000, 'currency': 'RUR', 'gross': False}, 'type': {'id': 'open', 'name': 'Открытая'}, 'address': {'city': 'Москва', 'street': '3-я Хорошёвская улица', 'building': '27к1', 'lat': 55.786875, 'lng': 37.494979, 'description': None, 'raw': 'Москва, 3-я Хорошёвская улица, 27к1', 'metro': None, 'metro_stations': [], 'id': '5832015'}, 'response_url': None, 'sort_point_distance': None, 'published_at': '2023-05-12T20:36:13+0300', 'created_at': '2023-05-12T20:36:13+0300', 'archived': False, 'apply_alternate_url': 'https://hh.ru/applicant/vacancy_response?vacancyId=80201668', 'insider_interview': None, 'url': 'https://api.hh.ru/vacancies/80201668?host=hh.ru', 'adv_response_url': None, 'alternate_url': 'https://hh.ru/vacancy/80201668', 'relations': [], 'employer': {'id': '2104579', 'name': 'Сеть детских садов Пятачок', 'url': 'https://api.hh.ru/employers/2104579', 'alternate_url': 'https://hh.ru/employer/2104579', 'logo_urls': {'original': 'https://hhcdn.ru/employer-logo-original/989431.jpeg', '90': 'https://hhcdn.ru/employer-logo/5578536.jpeg', '240': 'https://hhcdn.ru/employer-logo/5578537.jpeg'}, 'vacancies_url': 'https://api.hh.ru/vacancies?employer_id=2104579', 'trusted': True}, 'snippet': {'requirement': 'Наличие творческих способностей (умение петь, танцевать, писать стихи, рисовать, приветствуется знание <highlighttext>английского</highlighttext> языка и других). Любовь к детям, индивидуальный подход...', 'responsibility': 'Обучение и воспитание детей дошкольного возраста. Соблюдение режима дня и распорядка в саду. Ведение развивающих занятий в соответствии с сеткой...'}, 'contacts': None, 'schedule': None, 'working_days': [], 'working_time_intervals': [], 'working_time_modes': [], 'accept_temporary': False, 'professional_roles': [{'id': '23', 'name': 'Воспитатель, няня'}], 'accept_incomplete_resumes': False, 'experience': {'id': 'between3And6', 'name': 'От 3 до 6 лет'}, 'employment': {'id': 'full', 'name': 'Полная занятость'}}, {'id': '80194509', 'premium': False, 'name': 'Репетитор по английскому языку', 'department': None, 'has_test': False, 'response_letter_required': False, 'area': {'id': '1', 'name': 'Москва', 'url': 'https://api.hh.ru/areas/1'}, 'salary': {'from': 36000, 'to': 108000, 'currency': 'RUR', 'gross': False}, 'type': {'id': 'open', 'name': 'Открытая'}, 'address': None, 'response_url': None, 'sort_point_distance': None, 'published_at': '2023-05-08T23:39:01+0300', 'created_at': '2023-05-08T23:39:01+0300', 'archived': False, 'apply_alternate_url': 'https://hh.ru/applicant/vacancy_response?vacancyId=80194509', 'insider_interview': None, 'url': 'https://api.hh.ru/vacancies/80194509?host=hh.ru', 'adv_response_url': None, 'alternate_url': 'https://hh.ru/vacancy/80194509', 'relations': [], 'employer': {'id': '9834133', 'name': 'Free World Academy', 'url': 'https://api.hh.ru/employers/9834133', 'alternate_url': 'https://hh.ru/employer/9834133', 'logo_urls': {'90': 'https://hhcdn.ru/employer-logo/6004281.jpeg', '240': 'https://hhcdn.ru/employer-logo/6004282.jpeg', 'original': 'https://hhcdn.ru/employer-logo-original/1095915.jpg'}, 'vacancies_url': 'https://api.hh.ru/vacancies?employer_id=9834133', 'trusted': False}, 'snippet': {'requirement': 'we are waiting for your message. High level in <highlighttext>English</highlighttext> C1+. Meduim level of computer proficiency. ', 'responsibility': 'Hold online <highlighttext>English</highlighttext> lessons with kids (5-15).'}, 'contacts': None, 'schedule': None, 'working_days': [], 'working_time_intervals': [], 'working_time_modes': [], 'accept_temporary': False, 'professional_roles': [{'id': '93', 'name': 'Переводчик'}], 'accept_incomplete_resumes': True, 'experience': {'id': 'between1And3', 'name': 'От 1 года до 3 лет'}, 'employment': {'id': 'full', 'name': 'Полная занятость'}}]\n"
          ]
        }
      ]
    },
    {
      "cell_type": "markdown",
      "source": [
        "(1 балл) Посчитайте сколько всего найдено вакансий:"
      ],
      "metadata": {
        "id": "g0bdgyNWquuY"
      }
    },
    {
      "cell_type": "code",
      "source": [
        "sum([len(professions[profession]) for profession in professions.keys()])"
      ],
      "metadata": {
        "id": "lxyXtIs6q5cc",
        "colab": {
          "base_uri": "https://localhost:8080/"
        },
        "outputId": "2548089f-b9ed-4b6e-db76-013d7025acad"
      },
      "execution_count": 7,
      "outputs": [
        {
          "output_type": "execute_result",
          "data": {
            "text/plain": [
              "5988"
            ]
          },
          "metadata": {},
          "execution_count": 7
        }
      ]
    },
    {
      "cell_type": "markdown",
      "source": [
        "(1 балл) Создайте структуру данных, которая будет хранить в себе имя компании и ее координаты (широта и долгота):"
      ],
      "metadata": {
        "id": "wQeULnNyq5wk"
      }
    },
    {
      "cell_type": "code",
      "source": [
        "class Company:\n",
        "    def __init__(self, name, coords):\n",
        "        self.name = name\n",
        "        self.coords = coords"
      ],
      "metadata": {
        "id": "aR501yltVdLm"
      },
      "execution_count": 35,
      "outputs": []
    },
    {
      "cell_type": "markdown",
      "source": [
        "(1 балл) Создайте экземпляр этой структуры данных для каждой компании, которая выставила вакансию:"
      ],
      "metadata": {
        "id": "ccIi3wIvVkG0"
      }
    },
    {
      "cell_type": "code",
      "source": [
        "companies = dict()\n",
        "for profession in professions.keys():\n",
        "    for vacancy in professions[profession]:\n",
        "        name = vacancy[\"employer\"][\"name\"]\n",
        "        if name in companies.keys():\n",
        "            continue\n",
        "\n",
        "        name = vacancy[\"employer\"][\"name\"]\n",
        "        coords = (None, None)\n",
        "        if vacancy[\"address\"] != None:\n",
        "            coords = (vacancy[\"address\"][\"lat\"], vacancy[\"address\"][\"lng\"])\n",
        "\n",
        "        companies[name] = Company(name, coords)"
      ],
      "metadata": {
        "id": "tR6mYW7jtcCQ"
      },
      "execution_count": 49,
      "outputs": []
    },
    {
      "cell_type": "markdown",
      "source": [
        "(1 балл) Найдите количество вакансий, у которых заданы координаты (значения данных может быть пустым):"
      ],
      "metadata": {
        "id": "SyBpNd0vtcNu"
      }
    },
    {
      "cell_type": "code",
      "source": [
        "count = 0\n",
        "for company in companies.values():\n",
        "    count += company.coords != (None, None)\n",
        "count"
      ],
      "metadata": {
        "id": "lVgNCVALt2qJ",
        "colab": {
          "base_uri": "https://localhost:8080/"
        },
        "outputId": "405821b7-fb0e-40aa-e358-54761f7f6c00"
      },
      "execution_count": 55,
      "outputs": [
        {
          "output_type": "execute_result",
          "data": {
            "text/plain": [
              "1059"
            ]
          },
          "metadata": {},
          "execution_count": 55
        }
      ]
    },
    {
      "cell_type": "markdown",
      "source": [
        "(1 балл) Отберите вакансии, которые расположены в пределах МКАД (можно грубо):"
      ],
      "metadata": {
        "id": "aWNXrM-cu5Vi"
      }
    },
    {
      "cell_type": "code",
      "source": [
        "# your code here"
      ],
      "metadata": {
        "id": "01g9wVEyyn-J"
      },
      "execution_count": null,
      "outputs": []
    },
    {
      "cell_type": "markdown",
      "source": [
        "(1 балл) Постройте график в координатах \"широта-долгота\" для отображения вакансий внутри МКАД (не забывайте прописать прозрачность, чтобы увидеть скопления):"
      ],
      "metadata": {
        "id": "4LCb9IL_bgB_"
      }
    },
    {
      "cell_type": "code",
      "source": [
        "# your code here"
      ],
      "metadata": {
        "id": "6ogiXDvKcDV8"
      },
      "execution_count": null,
      "outputs": []
    },
    {
      "cell_type": "markdown",
      "source": [
        "(1 балл) Нанесите все точки вакансий на карту (для этого вам поможет данная <a target=\"_blank\" href=\"https://plotly.com/python/mapbox-layers/\">документации</a>, не забудьте про прозрачность и центрирование по Москве): "
      ],
      "metadata": {
        "id": "YvS8b7eqt214"
      }
    },
    {
      "cell_type": "code",
      "source": [
        "# your code here"
      ],
      "metadata": {
        "id": "1ceHEBdAys8o"
      },
      "execution_count": null,
      "outputs": []
    },
    {
      "cell_type": "markdown",
      "source": [
        "(2 балла) **Сделайте выводы о проделанной работе:**"
      ],
      "metadata": {
        "id": "u-p3Llc361PN"
      }
    },
    {
      "cell_type": "markdown",
      "source": [
        ">*Подсказки для маленьких: Что вы можете сказать про районы Москвы? Что вы можете сказать про зарплаты? Что вы можете сказать про спрос?*"
      ],
      "metadata": {
        "id": "G1c3d-qALobz"
      }
    },
    {
      "cell_type": "markdown",
      "source": [
        "Ваши выводы здесь :)"
      ],
      "metadata": {
        "id": "gkPpbtBuVqwc"
      }
    },
    {
      "cell_type": "markdown",
      "source": [
        "## Задание 2. Анализ данных - 20 баллов"
      ],
      "metadata": {
        "id": "wVcCTF_Zz58q"
      }
    },
    {
      "cell_type": "markdown",
      "source": [
        "Вам предстоит проанализировать датасет, содержащий информацию об бриллианта, их стоимости и остальных характеристиках."
      ],
      "metadata": {
        "id": "lii5YFuucxR2"
      }
    },
    {
      "cell_type": "markdown",
      "source": [
        "\n",
        "\n",
        "Поясним значения хранящиеся в колонках:\n",
        "*   `cut` - огранка бриллианта (относится к одной из примерно 10 наиболее распространенных)\n",
        "*   `color` - цвет бриллианта, прозрачные бриллианты имеют градацию `D-Z`, \"более высокие\" буквы - более желтоватые, но часто имеют лучшие значения, поскольку цвет трудно определить один раз в кольце\n",
        "*   `clarity` - чистота бриллианта, наличие включений (внутренних дефектов), чем меньше и мельче, тем лучше\n",
        "*   `carat_weight` - масса бриллианта (слабо связана с размером бриллианта, т.к. огранка и качество огранки, как правило, играют большую роль)\n",
        "*   `cut_quality` - качество ограники по системе оценки GIA Cut\n",
        "*   `lab` - лаборатория оценивания\n",
        "*   `meas_length` - длина бриллианта\n",
        "*   `meas_width` - ширина бриллианта\n",
        "*   `meas_depth` - глубина бриллианта\n",
        "*   `total_sales_price` - цена бриллианта в долларах.\n",
        "*    **и прочие колонки**"
      ],
      "metadata": {
        "id": "CvEO3-NI0Gez"
      }
    },
    {
      "cell_type": "markdown",
      "source": [
        "Скачаем данные:"
      ],
      "metadata": {
        "id": "7mK1QntN6ZXh"
      }
    },
    {
      "cell_type": "code",
      "source": [
        "!gdown 1uIWeZFz3ElB5p1brBVEwJBHTbjXNPdfU"
      ],
      "metadata": {
        "id": "LnCK3gCoebjw"
      },
      "execution_count": null,
      "outputs": []
    },
    {
      "cell_type": "markdown",
      "source": [
        "Создадим DataFrame:"
      ],
      "metadata": {
        "id": "wfSqVYoIfi3-"
      }
    },
    {
      "cell_type": "code",
      "source": [
        "diamonds = pd.read_csv(\"diamonds.csv\")"
      ],
      "metadata": {
        "id": "cDgRJzRp6Ow4"
      },
      "execution_count": null,
      "outputs": []
    },
    {
      "cell_type": "markdown",
      "source": [
        "(0.5 балла) Выведете первые 5 строк датасета:"
      ],
      "metadata": {
        "id": "vlw_3lXG6bhv"
      }
    },
    {
      "cell_type": "code",
      "source": [
        "# your code here"
      ],
      "metadata": {
        "id": "gHA-AnSE6fth"
      },
      "execution_count": null,
      "outputs": []
    },
    {
      "cell_type": "markdown",
      "source": [
        "(0.5 балла) Найдите количество бриллиантов всего в данном датасете:"
      ],
      "metadata": {
        "id": "gat7bnPQ6fCE"
      }
    },
    {
      "cell_type": "code",
      "source": [
        "# your code here"
      ],
      "metadata": {
        "id": "-9x6z3-J7C-v"
      },
      "execution_count": null,
      "outputs": []
    },
    {
      "cell_type": "markdown",
      "source": [
        "(0.5 балла) Выведите максимальную и минимальную цену бриллианта в формате `номер - цена`:"
      ],
      "metadata": {
        "id": "fYQuIdtL7DFp"
      }
    },
    {
      "cell_type": "code",
      "source": [
        "# your code here"
      ],
      "metadata": {
        "id": "D_7sjzjP7SEj"
      },
      "execution_count": null,
      "outputs": []
    },
    {
      "cell_type": "markdown",
      "source": [
        "(1 балл) Посчитайте количество пропусков (пропуском считается значение `unknown` или `None`):"
      ],
      "metadata": {
        "id": "E2mf4IIO7SOg"
      }
    },
    {
      "cell_type": "code",
      "source": [
        "# your code here"
      ],
      "metadata": {
        "id": "BuJZ0UoN7qAU"
      },
      "execution_count": null,
      "outputs": []
    },
    {
      "cell_type": "markdown",
      "source": [
        "(1 балл) Найдите в каких столбцах присутствуют пропуски:"
      ],
      "metadata": {
        "id": "d5LWUc_fh0vb"
      }
    },
    {
      "cell_type": "code",
      "source": [
        "# your code here"
      ],
      "metadata": {
        "id": "IsU49Fouh5vy"
      },
      "execution_count": null,
      "outputs": []
    },
    {
      "cell_type": "markdown",
      "source": [
        "В нашем датасете присутствуют колонки, которые начинаются с `fancy_color_` или `fluor_`. Большинство значений в этих колонках - `unknown` или `None`, поэтому мы считаем их малоинформативными. "
      ],
      "metadata": {
        "id": "UznNZpJ47qGX"
      }
    },
    {
      "cell_type": "markdown",
      "source": [
        "Ваша задача:"
      ],
      "metadata": {
        "id": "Rkk6Hr2Ui87X"
      }
    },
    {
      "cell_type": "markdown",
      "source": [
        "1. (0.5 балла) найти количество таких колонок, которые начинаются с `fancy_color_` или `fluor_`:"
      ],
      "metadata": {
        "id": "YYBDAgSSi-JU"
      }
    },
    {
      "cell_type": "code",
      "source": [
        "# your code here"
      ],
      "metadata": {
        "id": "nbTUkk4T8-wO"
      },
      "execution_count": null,
      "outputs": []
    },
    {
      "cell_type": "markdown",
      "source": [
        "2. (0.5 балла) найти количество информативных (не `None` или `unknown`) значений в этих колонках: "
      ],
      "metadata": {
        "id": "imop6nNujA6z"
      }
    },
    {
      "cell_type": "code",
      "source": [
        "# your code here"
      ],
      "metadata": {
        "id": "jtJcBwAVjPHU"
      },
      "execution_count": null,
      "outputs": []
    },
    {
      "cell_type": "markdown",
      "source": [
        "3. (0.5 балла) удалить данные колонки из датасета, сохранив изменения (в дальнейшем работаем измененным датасетом):"
      ],
      "metadata": {
        "id": "wFbuTnkbjPeq"
      }
    },
    {
      "cell_type": "code",
      "source": [
        "# your code here"
      ],
      "metadata": {
        "id": "qSZ5cmKWjutz"
      },
      "execution_count": null,
      "outputs": []
    },
    {
      "cell_type": "markdown",
      "source": [
        "(1 балл) Проделайте тоже самое для колонок, начинающихся с `culet_`:"
      ],
      "metadata": {
        "id": "JID3q4vr8-2h"
      }
    },
    {
      "cell_type": "code",
      "source": [
        "# your code here"
      ],
      "metadata": {
        "id": "Wfsvzyad-T6P"
      },
      "execution_count": null,
      "outputs": []
    },
    {
      "cell_type": "markdown",
      "source": [
        "(1 балл) Посчитайте сколько бы стоил (в тысячах долларов) сейф, в котором хранились бы все бриллианты из датасета:"
      ],
      "metadata": {
        "id": "7_qYv5Xm-UCz"
      }
    },
    {
      "cell_type": "code",
      "source": [
        "# your code here"
      ],
      "metadata": {
        "id": "g2wVyz5U-cx7"
      },
      "execution_count": null,
      "outputs": []
    },
    {
      "cell_type": "markdown",
      "source": [
        "Немного необоснованных манипуляций."
      ],
      "metadata": {
        "id": "GVwspHrUkRFv"
      }
    },
    {
      "cell_type": "markdown",
      "source": [
        "(1 балл) Выберите из датасета строки с четными индексами и выведете значения (не меняя нумерацию индексов):"
      ],
      "metadata": {
        "id": "0j5Yr0mFxxfu"
      }
    },
    {
      "cell_type": "code",
      "source": [
        "# your code here"
      ],
      "metadata": {
        "id": "dW2GOROfx6yd"
      },
      "execution_count": null,
      "outputs": []
    },
    {
      "cell_type": "markdown",
      "source": [
        "(0.5 балла) А теперь с индексами, кратными 6:"
      ],
      "metadata": {
        "id": "mNXqS4oox7TF"
      }
    },
    {
      "cell_type": "code",
      "source": [
        "# your code here"
      ],
      "metadata": {
        "id": "hy8LyzXix_SB"
      },
      "execution_count": null,
      "outputs": []
    },
    {
      "cell_type": "markdown",
      "source": [
        "(1 балл) Выберете из датасета только категорильные признаки и выведете датасет:"
      ],
      "metadata": {
        "id": "u94LL979x_bV"
      }
    },
    {
      "cell_type": "code",
      "source": [
        "# your code here"
      ],
      "metadata": {
        "id": "2_LBNDWXyOOl"
      },
      "execution_count": null,
      "outputs": []
    },
    {
      "cell_type": "markdown",
      "source": [
        ">**Примечание**\n",
        ">\n",
        ">Данный датасет можно использовать для задания 3 (с использованием `sklearn`)"
      ],
      "metadata": {
        "id": "QANg8ziJkHGM"
      }
    },
    {
      "cell_type": "markdown",
      "source": [
        "(0.5 балла) Выберете столбец с данными о цене бриллиантов и домножите его на тот столбец, только транспонированный, и выведите полученную матрицу:"
      ],
      "metadata": {
        "id": "mV9jLhspyOgz"
      }
    },
    {
      "cell_type": "code",
      "source": [
        "# your code here"
      ],
      "metadata": {
        "id": "LawjtnoIymFu"
      },
      "execution_count": null,
      "outputs": []
    },
    {
      "cell_type": "markdown",
      "source": [
        "### Построение графиков"
      ],
      "metadata": {
        "id": "Pz02uapbkbGk"
      }
    },
    {
      "cell_type": "markdown",
      "source": [
        "**Требования к графику:**\n",
        "\n",
        "1.   График должен быть подписан\n",
        "2.   Оси должны быть подписаны\n",
        "3.   Должна быть легенда графика\n",
        "4.   График должен быть информативным (желательно без сильных выбросов)\n",
        "\n",
        "**Все надписи на русском языке!**"
      ],
      "metadata": {
        "id": "_zhww-rd-c5c"
      }
    },
    {
      "cell_type": "markdown",
      "source": [
        ">**Примечание**\n",
        ">\n",
        ">График необходимо строить для очищенных данных - в них не должно быть пропусков по осям, по которым строите график. При этом **не перезатирайте** имеющийся датафрейм!"
      ],
      "metadata": {
        "id": "mfebCvk0k2mo"
      }
    },
    {
      "cell_type": "markdown",
      "source": [
        "(2 балла) Постройте график `цвет бриллианта - стоимость`:"
      ],
      "metadata": {
        "id": "4R9Rwxdq-l21"
      }
    },
    {
      "cell_type": "code",
      "source": [
        "# your code here"
      ],
      "metadata": {
        "id": "Fo6I0j5o-vQh"
      },
      "execution_count": null,
      "outputs": []
    },
    {
      "cell_type": "markdown",
      "source": [
        "(2 балла) Постройте график `лабараторная оценка - кол-во бриллиантов`:"
      ],
      "metadata": {
        "id": "W_UgFji5-vWx"
      }
    },
    {
      "cell_type": "code",
      "source": [
        "# your code here"
      ],
      "metadata": {
        "id": "nyT8-TRb_c24"
      },
      "execution_count": null,
      "outputs": []
    },
    {
      "cell_type": "markdown",
      "source": [
        "(2 балла) Постройте график `вес бриллианта - стоимость`:"
      ],
      "metadata": {
        "id": "AgsMclnJ_c9H"
      }
    },
    {
      "cell_type": "code",
      "source": [
        "# your code here"
      ],
      "metadata": {
        "id": "tn-x3pwmANQe"
      },
      "execution_count": null,
      "outputs": []
    },
    {
      "cell_type": "markdown",
      "source": [
        "(2 балла) Постройте график `система оценки GIA Cut - кол-во бриллиантов`:"
      ],
      "metadata": {
        "id": "0LVC1KfEAwuw"
      }
    },
    {
      "cell_type": "code",
      "source": [
        "# your code here"
      ],
      "metadata": {
        "id": "IeuLooSIA232"
      },
      "execution_count": null,
      "outputs": []
    },
    {
      "cell_type": "markdown",
      "source": [
        "(2 балла) **Сделайте выводы по построенным графикам:**"
      ],
      "metadata": {
        "id": "DRaaNLidFDhL"
      }
    },
    {
      "cell_type": "markdown",
      "source": [
        ">*Подсказка для маленьких: Что вы можете сказать о графиках полученных выше для данного датасета?*"
      ],
      "metadata": {
        "id": "GSuWCfdGLtn0"
      }
    },
    {
      "cell_type": "markdown",
      "source": [
        "Ваши выводы здесь :)"
      ],
      "metadata": {
        "id": "iNdjR_X9lSt1"
      }
    },
    {
      "cell_type": "markdown",
      "source": [
        "## Задание 3. Модель - 30 баллов"
      ],
      "metadata": {
        "id": "JKYRkX_rBxxu"
      }
    },
    {
      "cell_type": "markdown",
      "source": [
        "В данном задании вам предстоит построить классифицирующую модель размер алмаза и его стоимости, а затем оценить полученную модель."
      ],
      "metadata": {
        "id": "EJO9SwpII_uJ"
      }
    },
    {
      "cell_type": "markdown",
      "source": [
        ">**Примечание**\n",
        ">\n",
        ">Данная модель не претендует на самый верный индикатор стоимости алмаза, ведь мы не учитываем ничего больше чем стоимость алмаза. Исключительно для образовательных целей :)"
      ],
      "metadata": {
        "id": "_8sA1qlRllrk"
      }
    },
    {
      "cell_type": "markdown",
      "source": [
        "Для построения модели нам понадобится 4 столбца, а именно: \n",
        "- `meas_length`\n",
        "- `meas_width`\n",
        "- `meas_depth`\n",
        "- `total_sales_price`\n",
        "\n",
        "От остальных столбцов можно избавиться."
      ],
      "metadata": {
        "id": "e78rVEGFJrVN"
      }
    },
    {
      "cell_type": "markdown",
      "source": [
        "(1 балл) Создайте новый датасет и выведите его первые 10 строк: "
      ],
      "metadata": {
        "id": "HhpeXcR1l-Ag"
      }
    },
    {
      "cell_type": "code",
      "source": [
        "# your code here"
      ],
      "metadata": {
        "id": "K87VXeCxKFrU"
      },
      "execution_count": null,
      "outputs": []
    },
    {
      "cell_type": "markdown",
      "source": [
        "(1 балл) Перемешайте строки в датафрейме случайным образом: "
      ],
      "metadata": {
        "id": "Uex8DVspKFxn"
      }
    },
    {
      "cell_type": "code",
      "source": [
        "# your code here"
      ],
      "metadata": {
        "id": "5lRYIwGOKOnT"
      },
      "execution_count": null,
      "outputs": []
    },
    {
      "cell_type": "markdown",
      "source": [
        "(1 балл) Сформируем новую колонку - для каждого бриллианта найдем сумму Минковского (p=3) по 3 измерениям бриллианта:"
      ],
      "metadata": {
        "id": "iEHBNONDLl64"
      }
    },
    {
      "cell_type": "code",
      "source": [
        "# your code here"
      ],
      "metadata": {
        "id": "V3CTAQbAMQsR"
      },
      "execution_count": null,
      "outputs": []
    },
    {
      "cell_type": "markdown",
      "source": [
        "(1 балл) Сформируем новый датасет из двух колонок - сумма Минковского и `total_sales_price`: "
      ],
      "metadata": {
        "id": "z5s5_yB8n1Hp"
      }
    },
    {
      "cell_type": "code",
      "source": [
        "# your code here"
      ],
      "metadata": {
        "id": "tXxZnWS7n9q0"
      },
      "execution_count": null,
      "outputs": []
    },
    {
      "cell_type": "markdown",
      "source": [
        "(1 балл) Разделите вашу выборку на две части в соотношении 8:2 - одна выборка будет для тренировка, а другая для тестов вашей модели:"
      ],
      "metadata": {
        "id": "aXCp0GmUKOvM"
      }
    },
    {
      "cell_type": "code",
      "source": [
        "# your code here"
      ],
      "metadata": {
        "id": "rxwHhdnFK3Lz"
      },
      "execution_count": null,
      "outputs": []
    },
    {
      "cell_type": "markdown",
      "source": [
        "(2 балла) Постройте график зависимости стоимости от вашего нового параметра размера для тренинг-выборки:"
      ],
      "metadata": {
        "id": "lhuRoIMRK3S3"
      }
    },
    {
      "cell_type": "code",
      "source": [
        "# your code here"
      ],
      "metadata": {
        "id": "zdXv0wimNNZq"
      },
      "execution_count": null,
      "outputs": []
    },
    {
      "cell_type": "markdown",
      "source": [
        "(2 балла) Нанесите на тот же график тестовую выборку, используя другой цвет (не забудьте про параметр прозрачности):"
      ],
      "metadata": {
        "id": "0cUx_FSiNOUx"
      }
    },
    {
      "cell_type": "code",
      "source": [
        "# your code here"
      ],
      "metadata": {
        "id": "R09w4W7VNnM2"
      },
      "execution_count": null,
      "outputs": []
    },
    {
      "cell_type": "markdown",
      "source": [
        "(3 балла) Найдите для каждой бриллианта из тестовой выборки его \"ближайшего соседа\" из тренинг-выборки. Для каждого бриллианта из тестовой выборки найдите расстояния до соответствующего ближайшего соседа:"
      ],
      "metadata": {
        "id": "VwIIccnpNnVj"
      }
    },
    {
      "cell_type": "code",
      "source": [
        "# your code here"
      ],
      "metadata": {
        "id": "t_jpKJ54OBb0"
      },
      "execution_count": null,
      "outputs": []
    },
    {
      "cell_type": "markdown",
      "source": [
        "(3 балла) Найдите насколько сильно (в процентах) отличается цена бриллиантов из тестовой выборки от их соответствующих ближайших соседей:"
      ],
      "metadata": {
        "id": "7R0uaHqurV_u"
      }
    },
    {
      "cell_type": "code",
      "source": [
        "# your code here"
      ],
      "metadata": {
        "id": "Uy2ngWJ4rn-4"
      },
      "execution_count": null,
      "outputs": []
    },
    {
      "cell_type": "markdown",
      "source": [
        "**Данная модель является выдумкой автора. Не важен коэффициент ошибки, важны ваши шаги для получения коэффициента.**"
      ],
      "metadata": {
        "id": "tl0CHY6_OAxU"
      }
    },
    {
      "cell_type": "markdown",
      "source": [
        "### Введение в машинное обучение"
      ],
      "metadata": {
        "id": "AbrAdKSUrqz5"
      }
    },
    {
      "cell_type": "markdown",
      "source": [
        "Теперь давайте познакомимся с таким сильным инструментом как `sklearn`."
      ],
      "metadata": {
        "id": "I6sqXZLYuox4"
      }
    },
    {
      "cell_type": "markdown",
      "source": [
        "Вам необходимо:\n",
        "1. выбрать 2 категориальных признака\n",
        "2. на их основе обучить решающее дерево\n",
        "3. оценить среднеквадратичную ошибку цены бриллианта\n",
        "4. сделать пп. 1-3 и выбрать ту пару, которая дает лучший результат\n",
        "5. сделать выводы"
      ],
      "metadata": {
        "id": "q4OpdbhwsuAX"
      }
    },
    {
      "cell_type": "markdown",
      "source": [
        "(3 балла) Мы работаем с категориальными признаками, для них не понятно что есть \"больше\" и \"меньше\". Поэтому нам нужно предварительно закодировать значения наших признаков, с чем нам поможет [OneHotEncoder](https://scikit-learn.org/stable/modules/generated/sklearn.preprocessing.OneHotEncoder.html):"
      ],
      "metadata": {
        "id": "rScraaVSxQlT"
      }
    },
    {
      "cell_type": "code",
      "source": [
        "# your code here"
      ],
      "metadata": {
        "id": "G8hDstLlxjry"
      },
      "execution_count": null,
      "outputs": []
    },
    {
      "cell_type": "markdown",
      "source": [
        "(3 балла) Разбейте датасет на обучающую и тестовую выбору. Для этого вам поможет [train_test_split](https://scikit-learn.org/stable/modules/generated/sklearn.model_selection.train_test_split.html):"
      ],
      "metadata": {
        "id": "ig8t-nmRvojA"
      }
    },
    {
      "cell_type": "code",
      "source": [
        "# your code here"
      ],
      "metadata": {
        "id": "ChVKP43AwY8i"
      },
      "execution_count": null,
      "outputs": []
    },
    {
      "cell_type": "markdown",
      "source": [
        "(3 балла) Затем создайте и обучите вашу модель - [DecisionTreeRegressor](https://scikit-learn.org/stable/modules/generated/sklearn.tree.DecisionTreeRegressor.html):"
      ],
      "metadata": {
        "id": "gbv2zLpkwZsq"
      }
    },
    {
      "cell_type": "code",
      "source": [
        "# your code here"
      ],
      "metadata": {
        "id": "Qfvv2j6Sws8p"
      },
      "execution_count": null,
      "outputs": []
    },
    {
      "cell_type": "markdown",
      "source": [
        "(3 балла) Оцените ошибку вашей модели при помощи [mean_squared_error](https://scikit-learn.org/stable/modules/generated/sklearn.metrics.mean_squared_error.html):"
      ],
      "metadata": {
        "id": "nUvBoY1pwtIv"
      }
    },
    {
      "cell_type": "code",
      "source": [
        "# your code here"
      ],
      "metadata": {
        "id": "q946oHPaxGA4"
      },
      "execution_count": null,
      "outputs": []
    },
    {
      "cell_type": "markdown",
      "source": [
        "(3 балла) **Сделайте выводы какие категориальные признаки лучше:**"
      ],
      "metadata": {
        "id": "scWwHLEKxGPl"
      }
    },
    {
      "cell_type": "markdown",
      "source": [
        "*Подсказки для маленьких: Что вы можете сказать о зависимости по вашей выборке признаков? Какой вы можете сделать вывод об готовых инструментах для работы и написанных Вами?*"
      ],
      "metadata": {
        "id": "djE6Ke2bL5WS"
      }
    },
    {
      "cell_type": "markdown",
      "source": [
        "Ваши выводы здесь :)"
      ],
      "metadata": {
        "id": "lu36_N58uvui"
      }
    }
  ]
}